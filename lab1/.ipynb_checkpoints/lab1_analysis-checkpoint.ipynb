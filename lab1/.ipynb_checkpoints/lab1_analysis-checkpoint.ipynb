{
 "cells": [
  {
   "cell_type": "markdown",
   "id": "bd69a6ed",
   "metadata": {},
   "source": [
    "# Muon Observation Data Analysis\n",
    "# By Max Fine for PHYC11 in 2022\n",
    "Using \"Muon Physics\""
   ]
  },
  {
   "cell_type": "code",
   "execution_count": 48,
   "id": "57eb1b31",
   "metadata": {},
   "outputs": [],
   "source": [
    "# imports\n",
    "import numpy as np\n",
    "import matplotlib.pyplot as plt\n",
    "from scipy.optimize import curve_fit\n",
    "import scipy.constants\n",
    "c = scipy.constants.c\n",
    "hbar = scipy.constants.hbar\n",
    "me = scipy.constants.m_e\n",
    "m_muon = 206.768283046 *me\n"
   ]
  },
  {
   "cell_type": "code",
   "execution_count": null,
   "id": "547c5f16",
   "metadata": {},
   "outputs": [],
   "source": []
  },
  {
   "cell_type": "code",
   "execution_count": 49,
   "id": "14972b8b",
   "metadata": {},
   "outputs": [],
   "source": [
    "# importing data from file\n",
    "data_names = ['run1.data','run2.data','run3.data','run4.data']\n",
    "f_name3 = \"run5.data\" #change to data file name, expects it to be in  'data/f_name'\n",
    "f_name4 = 'run4.data'\n",
    "\n",
    "path3 = \"data/\" + f_name3\n",
    "path4 = 'data/' + f_name4\n",
    "\n",
    "raw_data3 = np.genfromtxt(path3,delimiter=' ') # first index is row #, 2nd is col #\n",
    "raw_data4 = np.genfromtxt(path4,delimiter=' ')"
   ]
  },
  {
   "cell_type": "code",
   "execution_count": 50,
   "id": "dfa6c2c7",
   "metadata": {},
   "outputs": [],
   "source": [
    "#data_dict"
   ]
  },
  {
   "cell_type": "code",
   "execution_count": 51,
   "id": "66931b19",
   "metadata": {},
   "outputs": [],
   "source": [
    "# data processing\n",
    "decay_data3 = raw_data3[:,0]\n",
    "decay_data4 = raw_data4[:,0]\n",
    "\n",
    "# values of >40000 indicate that a muon did not decay so we remove them\n",
    "#40000) #and np.where(decay_data > 60)) #40000) #40000)\n",
    "index_proc3 = np.where(decay_data3 < 40000) \n",
    "proc_data3 = decay_data3[index_proc3]\n",
    "# 14000\n",
    "index_proc4 = np.where(decay_data4 < 40000) \n",
    "proc_data4 = decay_data4[index_proc4]\n",
    "\n"
   ]
  },
  {
   "cell_type": "code",
   "execution_count": 52,
   "id": "10692e22",
   "metadata": {
    "scrolled": true
   },
   "outputs": [
    {
     "name": "stdout",
     "output_type": "stream",
     "text": [
      "1741\n",
      "5647\n"
     ]
    }
   ],
   "source": [
    "data_len3 = len(proc_data3)\n",
    "data_len4 = len(proc_data4)\n",
    "print(data_len3)\n",
    "print(data_len4)"
   ]
  },
  {
   "cell_type": "code",
   "execution_count": 53,
   "id": "fb28e5fc",
   "metadata": {
    "scrolled": false
   },
   "outputs": [
    {
     "data": {
      "image/png": "[encoded data removed]",
      "text/plain": [
       "<Figure size 432x360 with 1 Axes>"
      ]
     },
     "metadata": {
      "needs_background": "light"
     },
     "output_type": "display_data"
    }
   ],
   "source": [
    "#displaying procc data 3\n",
    "n_bins3 =  2 *int(len(proc_data3)**(1/3))\n",
    "plt.figure(figsize=(6, 5))\n",
    "#n_bins = 30\n",
    "plt.hist(proc_data3/1000,n_bins3)#bins=int(len(proc_data)**0.5))\n",
    "#plt.title('Muon Decay Time Histogram')\n",
    "plt.xlabel('Decay Time ($\\mu s$)')#($\\mu$s)')\n",
    "plt.ylabel('Events')\n",
    "plt.title('Raw Data for Run Three')\n",
    "plt.rcParams.update({'font.size': 16})\n",
    "\n",
    "#plt.xlim(0,700)\n",
    "plt.tight_layout()\n",
    "\n",
    "plt.savefig('plots/3Raw_Muon_Decay_Time_Histogram.pdf')\n"
   ]
  },
  {
   "cell_type": "code",
   "execution_count": 54,
   "id": "fe878559",
   "metadata": {},
   "outputs": [
    {
     "data": {
      "image/png": "[encoded data removed]",
      "text/plain": [
       "<Figure size 432x360 with 1 Axes>"
      ]
     },
     "metadata": {
      "needs_background": "light"
     },
     "output_type": "display_data"
    }
   ],
   "source": [
    "#displaying procc data 4\n",
    "n_bins4 =  2 *int(len(proc_data4)**(1/3))\n",
    "#n_bins = 30\n",
    "plt.figure(figsize=(6, 5))\n",
    "plt.hist(proc_data4/1000,n_bins4)#bins=int(len(proc_data)**0.5))\n",
    "#plt.title('Muon Decay Time Histogram')\n",
    "plt.xlabel('Decay Time ($\\mu s$)')#($\\mu$s)')\n",
    "plt.rcParams.update({'font.size': 16})\n",
    "plt.ylabel('Events')\n",
    "plt.title('Raw Data for Run Four')\n",
    "#plt.xlim(0,700)\n",
    "plt.tight_layout()\n",
    "plt.savefig('plots/4Raw_Muon_Decay_Time_Histogram.pdf')"
   ]
  },
  {
   "cell_type": "code",
   "execution_count": 55,
   "id": "4ba5c77d",
   "metadata": {},
   "outputs": [
    {
     "name": "stdout",
     "output_type": "stream",
     "text": [
      "1.3333333333333333\n",
      "std for noise3 is 0.9428090415820634\n",
      "1.3333333333333333\n",
      "std for noise4 is 0.9428090415820634\n"
     ]
    }
   ],
   "source": [
    "# noise estimatation\n",
    "# we take the avg events per bin for the last 2-3 bins and call it N \n",
    "\n",
    "bins3 = np.linspace(0, np.max(proc_data3),n_bins3 +1)\n",
    "data_entries_3, bins_3 = np.histogram(proc_data3, bins=bins3,)\n",
    "binscenters3 = np.array([0.5 * (bins3[i] + bins3[i+1]) for i in range(len(bins3)-1)])\n",
    "noise3 = np.average(data_entries_3[-4:-1])\n",
    "std3 = np.std(data_entries_3[-4:-1])\n",
    "print(noise3)\n",
    "print('std for noise3 is ' + str(std3))\n",
    "\n",
    "bins4 = np.linspace(0, np.max(proc_data4),n_bins4 +1)\n",
    "data_entries_4, bins_4 = np.histogram(proc_data4, bins=bins4,)\n",
    "binscenters4 = np.array([0.5 * (bins4[i] + bins4[i+1]) for i in range(len(bins4)-1)])\n",
    "noise4 = np.average(data_entries_4[-4:-1])\n",
    "std4 = np.std(data_entries_4[-4:-1])\n",
    "print(noise4)\n",
    "print('std for noise4 is ' + str(std4))"
   ]
  },
  {
   "cell_type": "code",
   "execution_count": 56,
   "id": "57768e73",
   "metadata": {},
   "outputs": [],
   "source": [
    "# cutting out the first 500ns\n",
    "\n",
    "index_proc3 = np.where(proc_data3 > 700) \n",
    "proc_data3 = proc_data3[index_proc3]\n",
    "\n",
    "\n",
    "index_proc4 = np.where(proc_data4 > 700) \n",
    "proc_data4 = proc_data4[index_proc4]\n"
   ]
  },
  {
   "cell_type": "code",
   "execution_count": 57,
   "id": "37b3b9d2",
   "metadata": {
    "scrolled": false
   },
   "outputs": [],
   "source": [
    "# finding half life/ time const\n",
    "\n",
    "def model3(t, tou, A):\n",
    "    return A *np.exp((-1*t/tou)) + noise3 #+ N # A is not the same as n_0, N is noise \n",
    "\n",
    "def model4(t, tou, A):\n",
    "    return A *np.exp((-1*t/tou)) + noise4 #+ N # A is not the same as n_0, N is noise \n",
    "\n",
    "def expected3(t,A):\n",
    "    return A *np.exp((-1*t/(2.19703 *1000))) + noise3\n",
    "\n",
    "def expected4(t,A):\n",
    "    return A *np.exp((-1*t/(2.19703 *1000))) + noise4\n",
    "\n",
    "\n",
    "# the first bin appears to be noisy, so we will mask it. \n",
    "# This wont effect the outcome if it was not noisy becaues it still follows exp\n",
    "#n_bins = int(len(0.5*proc_data)**0.5)\n",
    "#bins = np.linspace(0, np.max(proc_data),n_bins +1)\n",
    "#data_entries_1, bins_1 = np.histogram(proc_data, bins=bins,)# density=True)\n",
    "#data_entries = data_entries_1[1:]\n",
    "#bins = np.linspace(0, np.max(proc_data),n_bins )\n",
    "#binscenters = np.array([0.5 * (bins[i] + bins[i+1]) for i in range(len(bins)-1)])\n",
    "#guess = np.array([np.mean(proc_data), data_entries_1[0]])\n",
    "#popt, pcov = curve_fit(model, xdata=binscenters, ydata=data_entries, p0=guess)#p0=[20000, 2.0, 2000, 3.0, 0.3])\n",
    "\n",
    "\n"
   ]
  },
  {
   "cell_type": "code",
   "execution_count": null,
   "id": "b1ef15a4",
   "metadata": {},
   "outputs": [],
   "source": []
  },
  {
   "cell_type": "code",
   "execution_count": 58,
   "id": "9a06e0a8",
   "metadata": {
    "scrolled": true
   },
   "outputs": [],
   "source": [
    "# fitting the model\n",
    "bins3 = np.linspace(0, np.max(proc_data3),n_bins3 +1)\n",
    "data_entries_3, bins_1 = np.histogram(proc_data3, bins=bins3,)# density=True)\n",
    "data_entries3 = data_entries_3[2:]\n",
    "bins3 = np.linspace(0, np.max(proc_data3),n_bins3 )\n",
    "binscenters3 = np.array([0.5 * (bins3[i] + bins3[i+1]) for i in range(len(bins3)-2)])\n",
    "guess = np.array([np.mean(proc_data3), data_entries3[0]])\n",
    "popt3, pcov3 = curve_fit(model3, xdata=binscenters3, ydata=data_entries3, p0=guess)#p0=[20000, 2.0, 2000, 3.0, 0.3])\n",
    "\n",
    "bins4 = np.linspace(0, np.max(proc_data4),n_bins4 +1)\n",
    "data_entries_1, bins_1 = np.histogram(proc_data4, bins=bins4,)# density=True)\n",
    "data_entries4 = data_entries_1[2:]\n",
    "bins4 = np.linspace(0, np.max(proc_data4),n_bins4 )\n",
    "binscenters4 = np.array([0.5 * (bins4[i] + bins4[i+1]) for i in range(len(bins4)-2)])\n",
    "guess = np.array([np.mean(proc_data4), data_entries4[0]])\n",
    "popt4, pcov4 = curve_fit(model4, xdata=binscenters4, ydata=data_entries4, p0=guess)#p0=[20000, 2.0, 2000, 3.0, 0.3])\n"
   ]
  },
  {
   "cell_type": "code",
   "execution_count": 59,
   "id": "47b4c632",
   "metadata": {
    "scrolled": false
   },
   "outputs": [
    {
     "name": "stdout",
     "output_type": "stream",
     "text": [
      "popt3 [2234.36491161  298.97401167]\n",
      "estimated lifetime is 2234.3649116119295\n"
     ]
    },
    {
     "data": {
      "image/png": "[encoded data removed]",
      "text/plain": [
       "<Figure size 432x360 with 1 Axes>"
      ]
     },
     "metadata": {
      "needs_background": "light"
     },
     "output_type": "display_data"
    }
   ],
   "source": [
    "# plotting fitted models\n",
    "plt.figure(figsize=(6, 5))\n",
    "plt.bar(binscenters3/1000, data_entries3, width=(bins3[1] - bins3[0])/1000, color ='green', label=r'Raw Data')\n",
    "xspace = np.linspace(0,20000,100000)\n",
    "plt.plot(xspace /1000, expected3(xspace, popt3[1]), color='blue',linewidth=2.5 ,label=r'Expected Results')\n",
    "plt.plot(xspace /1000, model3(xspace, *popt3), '--',color='black',linewidth=2.5 ,label=r'Fitted Model')\n",
    "plt.xlim(0,np.max(proc_data4)/1000)\n",
    "plt.xlabel(r'Decay Time ($\\mu s$)')#($\\mu$s)')\n",
    "plt.ylabel(r'Events')\n",
    "plt.legend(loc='best')\n",
    "plt.title('Processed Data for Run Three')\n",
    "plt.rcParams.update({'font.size': 16})\n",
    "plt.tight_layout()\n",
    "plt.savefig('plots/fitted_Muon_Decay_Time_Histogram' +'3' +'.pdf')\n",
    "print('popt3 ' + str(popt3))\n",
    "half_life3 = popt3[0] # mew s\n",
    "print('estimated lifetime is ' + str(half_life3))\n"
   ]
  },
  {
   "cell_type": "code",
   "execution_count": 60,
   "id": "94df825d",
   "metadata": {},
   "outputs": [
    {
     "name": "stdout",
     "output_type": "stream",
     "text": [
      "popt4 [2167.43261655  266.81204557]\n",
      "estimated lifetime is 2167.4326165539183\n"
     ]
    },
    {
     "data": {
      "image/png": "[encoded data removed]",
      "text/plain": [
       "<Figure size 432x360 with 1 Axes>"
      ]
     },
     "metadata": {
      "needs_background": "light"
     },
     "output_type": "display_data"
    }
   ],
   "source": [
    "plt.figure(figsize=(6, 5))\n",
    "plt.bar(binscenters4/1000, data_entries4, width=(bins4[1] - bins4[0])/1000, color ='green', label=r'Raw Data')\n",
    "xspace = np.linspace(0,20000,100000)\n",
    "plt.plot(xspace /1000, expected4(xspace, popt4[1]), color='blue',linewidth=2.5 ,label=r'Expected Results')\n",
    "plt.plot(xspace /1000, model4(xspace, *popt4), '--',color='black',linewidth=2.5 ,label=r'Fitted Model')\n",
    "\n",
    "plt.xlim(0,np.max(proc_data4)/1000)\n",
    "plt.xlabel(r'Decay Time ($\\mu s$)')#($\\mu$s)')\n",
    "plt.ylabel(r'Events')\n",
    "plt.legend(loc='best')\n",
    "plt.title('Processed Data for Run Four')\n",
    "plt.rcParams.update({'font.size': 16})\n",
    "plt.tight_layout()\n",
    "plt.savefig('plots/fitted_Muon_Decay_Time_Histogram' +'4' +'.pdf')\n",
    "print('popt4 ' + str(popt4))\n",
    "half_life4 = popt4[0] # mew s\n",
    "print('estimated lifetime is ' + str(half_life4))"
   ]
  },
  {
   "cell_type": "code",
   "execution_count": 61,
   "id": "4fa91633",
   "metadata": {
    "scrolled": true
   },
   "outputs": [
    {
     "name": "stdout",
     "output_type": "stream",
     "text": [
      "2194.70132935533\n"
     ]
    }
   ],
   "source": [
    "# final estimation\n",
    "# using a weighted average of the two values. \n",
    "half_life = (half_life3 * len(binscenters3)+half_life4 *len(binscenters4))/(len(binscenters3) +len(binscenters4)) \n",
    "print(half_life)  #ns"
   ]
  },
  {
   "cell_type": "code",
   "execution_count": 62,
   "id": "471d103a",
   "metadata": {},
   "outputs": [],
   "source": [
    "# error estimation "
   ]
  },
  {
   "cell_type": "code",
   "execution_count": 63,
   "id": "24c0f4f6",
   "metadata": {
    "scrolled": true
   },
   "outputs": [
    {
     "name": "stdout",
     "output_type": "stream",
     "text": [
      "popt3 [2208.81778653  283.88242128]\n",
      "popt3 [2130.57024756  250.26994462]\n",
      "2130.5702475604\n"
     ]
    }
   ],
   "source": [
    "# 10% more bins\n",
    "n_bins3 = int(1.2* n_bins3)\n",
    "n_bins4 = int(1.2 * n_bins4)\n",
    "\n",
    "bins3 = np.linspace(0, np.max(proc_data3),n_bins3 +1)\n",
    "data_entries_3, bins_1 = np.histogram(proc_data3, bins=bins3,)# density=True)\n",
    "data_entries3 = data_entries_3[2:]\n",
    "bins3 = np.linspace(0, np.max(proc_data3),n_bins3 )\n",
    "binscenters3 = np.array([0.5 * (bins3[i] + bins3[i+1]) for i in range(len(bins3)-2)])\n",
    "guess = np.array([np.mean(proc_data3), data_entries3[0]])\n",
    "popt3, pcov3 = curve_fit(model3, xdata=binscenters3, ydata=data_entries3, p0=guess)#p0=[20000, 2.0, 2000, 3.0, 0.3])\n",
    "\n",
    "bins4 = np.linspace(0, np.max(proc_data4),n_bins4 +1)\n",
    "data_entries_1, bins_1 = np.histogram(proc_data4, bins=bins4,)# density=True)\n",
    "data_entries4 = data_entries_1[2:]\n",
    "bins4 = np.linspace(0, np.max(proc_data4),n_bins4 )\n",
    "binscenters4 = np.array([0.5 * (bins4[i] + bins4[i+1]) for i in range(len(bins4)-2)])\n",
    "guess = np.array([np.mean(proc_data4), data_entries4[0]])\n",
    "popt4, pcov4 = curve_fit(model4, xdata=binscenters4, ydata=data_entries4, p0=guess)#p0=[20000, 2.0, 2000, 3.0, 0.3])\n",
    "\n",
    "print('popt3 ' + str(popt3))\n",
    "half_life3_high = popt4[0] # mew s\n",
    "\n",
    "print('popt3 ' + str(popt4))\n",
    "half_life4_high = popt4[0] # mew s\n",
    "\n",
    "avg_half_life_high = ((half_life3_high * len(binscenters3)+half_life4_high *len(binscenters4))/(len(binscenters3) +len(binscenters4))) \n",
    "print(avg_half_life_high)  #ns"
   ]
  },
  {
   "cell_type": "code",
   "execution_count": 64,
   "id": "eec37fff",
   "metadata": {
    "scrolled": true
   },
   "outputs": [
    {
     "name": "stdout",
     "output_type": "stream",
     "text": [
      "popt3 [2294.76484893  299.53895445]\n",
      "popt3 [2192.66598376  273.63223279]\n",
      "2192.6659837603784\n"
     ]
    }
   ],
   "source": [
    "# 10% fewer bins\n",
    "n_bins3 = int(0.8* n_bins3)\n",
    "n_bins4 = int(0.8 * n_bins4)\n",
    "\n",
    "bins3 = np.linspace(0, np.max(proc_data3),n_bins3 +1)\n",
    "data_entries_3, bins_1 = np.histogram(proc_data3, bins=bins3,)# density=True)\n",
    "data_entries3 = data_entries_3[2:]\n",
    "bins3 = np.linspace(0, np.max(proc_data3),n_bins3 )\n",
    "binscenters3 = np.array([0.5 * (bins3[i] + bins3[i+1]) for i in range(len(bins3)-2)])\n",
    "guess = np.array([np.mean(proc_data3), data_entries3[0]])\n",
    "popt3, pcov3 = curve_fit(model3, xdata=binscenters3, ydata=data_entries3, p0=guess)#p0=[20000, 2.0, 2000, 3.0, 0.3])\n",
    "\n",
    "bins4 = np.linspace(0, np.max(proc_data4),n_bins4 +1)\n",
    "data_entries_1, bins_1 = np.histogram(proc_data4, bins=bins4,)# density=True)\n",
    "data_entries4 = data_entries_1[2:]\n",
    "bins4 = np.linspace(0, np.max(proc_data4),n_bins4 )\n",
    "binscenters4 = np.array([0.5 * (bins4[i] + bins4[i+1]) for i in range(len(bins4)-2)])\n",
    "guess = np.array([np.mean(proc_data4), data_entries4[0]])\n",
    "popt4, pcov4 = curve_fit(model4, xdata=binscenters4, ydata=data_entries4, p0=guess)#p0=[20000, 2.0, 2000, 3.0, 0.3])\n",
    "\n",
    "print('popt3 ' + str(popt3))\n",
    "half_life3_low = popt4[0] # mew s\n",
    "\n",
    "print('popt3 ' + str(popt4))\n",
    "half_life4_low = popt4[0] # mew s\n",
    "\n",
    "avg_half_life_low = ((half_life3_low * len(binscenters3)+half_life4_low *len(binscenters4))/(len(binscenters3) +len(binscenters4))) \n",
    "print(avg_half_life_low)  #ns"
   ]
  },
  {
   "cell_type": "code",
   "execution_count": 65,
   "id": "826982d1",
   "metadata": {
    "scrolled": false
   },
   "outputs": [
    {
     "name": "stdout",
     "output_type": "stream",
     "text": [
      "31.047868099989273\n"
     ]
    }
   ],
   "source": [
    "error = np.abs(avg_half_life_low - avg_half_life_high)/2 \n",
    "# we will round this up to the next whole number of the leading digit\n",
    "print(error) #ns lets round up to the next whole number so 400 ns"
   ]
  },
  {
   "cell_type": "code",
   "execution_count": 66,
   "id": "c8bf4d84",
   "metadata": {
    "scrolled": true
   },
   "outputs": [
    {
     "name": "stdout",
     "output_type": "stream",
     "text": [
      "0.014274176464776961\n",
      "1.4334434851855494e-62\n"
     ]
    }
   ],
   "source": [
    "# ratio and G_f\n",
    "t_c = 2043\n",
    "t_known = 2197.03\n",
    "t_obs = half_life\n",
    "\n",
    "rho = -(t_c/t_known) * ((t_known-t_obs)/(t_c-t_obs))\n",
    "print(rho)\n",
    "\n",
    "gf = np.sqrt((192 *np.pi**3 * hbar**7)/(t_obs*10**-9 * m_muon**5 * c**4))\n",
    "print(gf) # Si units \n",
    "\n"
   ]
  },
  {
   "cell_type": "code",
   "execution_count": 67,
   "id": "78120ed9",
   "metadata": {},
   "outputs": [
    {
     "data": {
      "text/plain": [
       "453617690523502.9"
      ]
     },
     "execution_count": 67,
     "metadata": {},
     "output_type": "execute_result"
    }
   ],
   "source": [
    "gf/ (hbar *c)**3"
   ]
  },
  {
   "cell_type": "code",
   "execution_count": 68,
   "id": "30191d90",
   "metadata": {},
   "outputs": [],
   "source": [
    "j =  6241495961.7521  #Gev\n",
    "#j = 1.609 * 10**2"
   ]
  },
  {
   "cell_type": "code",
   "execution_count": 69,
   "id": "b8291a22",
   "metadata": {},
   "outputs": [
    {
     "data": {
      "text/plain": [
       "1.1644278805219765e-05"
      ]
     },
     "execution_count": 69,
     "metadata": {},
     "output_type": "execute_result"
    }
   ],
   "source": [
    "gf/ (hbar *c)**3 *j**-2 "
   ]
  },
  {
   "cell_type": "code",
   "execution_count": 71,
   "id": "cb51b16d",
   "metadata": {},
   "outputs": [
    {
     "name": "stdout",
     "output_type": "stream",
     "text": [
      "1.0139275823444924e-64\n"
     ]
    }
   ],
   "source": [
    "new_gf = gf/ (hbar *c)**3 *j**-2 \n",
    "\n",
    "e_gf = gf * 0.5 * error/half_life \n",
    "print(e_gf)"
   ]
  },
  {
   "cell_type": "code",
   "execution_count": 73,
   "id": "c6f1bf26",
   "metadata": {
    "scrolled": true
   },
   "outputs": [
    {
     "data": {
      "text/plain": [
       "1.4146739551622385"
      ]
     },
     "execution_count": 73,
     "metadata": {},
     "output_type": "execute_result"
    }
   ],
   "source": [
    "error/half_life *100"
   ]
  },
  {
   "cell_type": "code",
   "execution_count": 74,
   "id": "9d9ebf80",
   "metadata": {},
   "outputs": [
    {
     "data": {
      "text/plain": [
       "31.047868099989273"
      ]
     },
     "execution_count": 74,
     "metadata": {},
     "output_type": "execute_result"
    }
   ],
   "source": [
    "error"
   ]
  },
  {
   "cell_type": "code",
   "execution_count": 75,
   "id": "2d4a71c1",
   "metadata": {},
   "outputs": [
    {
     "data": {
      "text/plain": [
       "2194.70132935533"
      ]
     },
     "execution_count": 75,
     "metadata": {},
     "output_type": "execute_result"
    }
   ],
   "source": [
    "half_life"
   ]
  },
  {
   "cell_type": "code",
   "execution_count": 79,
   "id": "596bad24",
   "metadata": {},
   "outputs": [
    {
     "data": {
      "text/plain": [
       "1.4146739551622385"
      ]
     },
     "execution_count": 79,
     "metadata": {},
     "output_type": "execute_result"
    }
   ],
   "source": [
    "error/half_life *100"
   ]
  },
  {
   "cell_type": "code",
   "execution_count": 78,
   "id": "c3d7f54b",
   "metadata": {},
   "outputs": [
    {
     "data": {
      "text/plain": [
       "1.4274176464776962"
      ]
     },
     "execution_count": 78,
     "metadata": {},
     "output_type": "execute_result"
    }
   ],
   "source": [
    "rho *100"
   ]
  },
  {
   "cell_type": "code",
   "execution_count": 82,
   "id": "e5363030",
   "metadata": {},
   "outputs": [
    {
     "data": {
      "text/plain": [
       "-20.46644431655958"
      ]
     },
     "execution_count": 82,
     "metadata": {},
     "output_type": "execute_result"
    }
   ],
   "source": [
    "error / (t_c -half_life ) *100"
   ]
  },
  {
   "cell_type": "markdown",
   "id": "78026e28",
   "metadata": {},
   "source": [
    "20 %"
   ]
  }
 ],
 "metadata": {
  "kernelspec": {
   "display_name": "Python 3 (ipykernel)",
   "language": "python",
   "name": "python3"
  },
  "language_info": {
   "codemirror_mode": {
    "name": "ipython",
    "version": 3
   },
   "file_extension": ".py",
   "mimetype": "text/x-python",
   "name": "python",
   "nbconvert_exporter": "python",
   "pygments_lexer": "ipython3",
   "version": "3.9.7"
  }
 },
 "nbformat": 4,
 "nbformat_minor": 5
}
