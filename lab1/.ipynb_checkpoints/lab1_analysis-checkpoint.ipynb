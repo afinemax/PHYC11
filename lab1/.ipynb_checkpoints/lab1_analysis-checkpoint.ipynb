{
 "cells": [
  {
   "cell_type": "markdown",
   "id": "bd69a6ed",
   "metadata": {},
   "source": [
    "# Muon Observation Data Analysis\n",
    "# By Max Fine for PHYC11 in 2022\n",
    "Using \"Muon Physics\""
   ]
  },
  {
   "cell_type": "code",
   "execution_count": 100,
   "id": "57eb1b31",
   "metadata": {},
   "outputs": [],
   "source": [
    "# imports\n",
    "import numpy as np\n",
    "import matplotlib.pyplot as plt\n",
    "from scipy.optimize import curve_fit"
   ]
  },
  {
   "cell_type": "code",
   "execution_count": 101,
   "id": "14972b8b",
   "metadata": {},
   "outputs": [],
   "source": [
    "# importing data from file\n",
    "f_name = \"run1.data\" #change to data file name, expects it to be in  'data/f_name'\n",
    "\n",
    "path = \"data/\" +f_name\n",
    "raw_data = np.genfromtxt(path,delimiter=' ') # first index is row #, 2nd is col #"
   ]
  },
  {
   "cell_type": "code",
   "execution_count": 102,
   "id": "66931b19",
   "metadata": {},
   "outputs": [],
   "source": [
    "# data processing\n",
    "decay_data = raw_data[:,0]\n",
    "\n",
    "# values of >40000 indicate that a muon did not decay so we remove them\n",
    "index_proc = np.where(decay_data <40000)\n",
    "proc_data = decay_data[index_proc]"
   ]
  },
  {
   "cell_type": "code",
   "execution_count": 103,
   "id": "10692e22",
   "metadata": {},
   "outputs": [],
   "source": [
    "data_len = len(proc_data)\n",
    "mean_lifetime = np.mean(proc_data) # no noise reduction!"
   ]
  },
  {
   "cell_type": "code",
   "execution_count": 130,
   "id": "fb28e5fc",
   "metadata": {
    "scrolled": false
   },
   "outputs": [
    {
     "data": {
      "image/png": "[encoded data removed]",
      "text/plain": [
       "<Figure size 432x288 with 1 Axes>"
      ]
     },
     "metadata": {
      "needs_background": "light"
     },
     "output_type": "display_data"
    }
   ],
   "source": [
    "#displaying raw data\n",
    "n_bins = 2* int(len(proc_data)**(1/3))\n",
    "plt.hist(proc_data,n_bins)#bins=int(len(proc_data)**0.5))\n",
    "#plt.title('Muon Decay Time Histogram')\n",
    "plt.xlabel('Decay Time (ns)')#($\\mu$s)')\n",
    "plt.ylabel('Events')\n",
    "plt.rcParams.update({'font.size': 15})\n",
    "plt.tight_layout()\n",
    "plt.savefig('plots/Raw_Muon_Decay_Time_Histogram.pdf')\n"
   ]
  },
  {
   "cell_type": "code",
   "execution_count": 156,
   "id": "37b3b9d2",
   "metadata": {
    "scrolled": false
   },
   "outputs": [
    {
     "name": "stdout",
     "output_type": "stream",
     "text": [
      "popt [2176.64172615   59.31537874    3.        ]\n",
      "estimated lifetime is 2176.641726148523\n",
      "mean life time of data is 3366.32183908046\n"
     ]
    },
    {
     "name": "stderr",
     "output_type": "stream",
     "text": [
      "/home/afinemax/anaconda3/lib/python3.9/site-packages/scipy/optimize/minpack.py:833: OptimizeWarning: Covariance of the parameters could not be estimated\n",
      "  warnings.warn('Covariance of the parameters could not be estimated',\n"
     ]
    }
   ],
   "source": [
    "# finding half life/ time const\n",
    "\n",
    "def model(t, tou, A, N):\n",
    "    return A *np.exp((-1*t/tou)) #+ N # A is not the same as n_0 \n",
    "\n",
    "n_bins = 20\n",
    "\n",
    "bins = np.linspace(0, np.max(proc_data),n_bins +1)\n",
    "data_entries_1, bins_1 = np.histogram(proc_data, bins=bins,)# density=True)\n",
    "binscenters = np.array([0.5 * (bins[i] + bins[i+1]) for i in range(len(bins)-1)])\n",
    "guess = np.array([np.mean(proc_data), data_entries_1[0], data_entries_1[-1]])\n",
    "popt, pcov = curve_fit(model, xdata=binscenters, ydata=data_entries_1, p0=guess)#p0=[20000, 2.0, 2000, 3.0, 0.3])\n",
    "print('popt ' + str(popt))\n",
    "half_life = popt[0] # mew s\n",
    "print('estimated lifetime is ' + str(half_life))\n",
    "print('mean life time of data is ' + str(np.mean(proc_data)))\n",
    "\n",
    "\n"
   ]
  },
  {
   "cell_type": "code",
   "execution_count": 157,
   "id": "47b4c632",
   "metadata": {
    "scrolled": false
   },
   "outputs": [
    {
     "data": {
      "image/png": "[encoded data removed]",
      "text/plain": [
       "<Figure size 432x288 with 1 Axes>"
      ]
     },
     "metadata": {
      "needs_background": "light"
     },
     "output_type": "display_data"
    }
   ],
   "source": [
    "# plotting fitted model\n",
    "plt.bar(binscenters, data_entries_1, width=bins[1] - bins[0], color ='green', label=r'Raw Data')\n",
    "xspace = np.linspace(0,20000,100000)\n",
    "plt.plot(xspace, model(xspace, *popt), '--',color='black',linewidth=2.5 ,label=r'Fitted Model')\n",
    "#plt.plot(xspace, model(xspace, ), '--',color='black',linewidth=2.5 ,label=r'Fitted Model')\n",
    "plt.xlim(0,np.max(proc_data))\n",
    "plt.xlabel(r'Decay Time (ns)')#($\\mu$s)')\n",
    "plt.ylabel(r'Events')\n",
    "plt.legend(loc='best')\n",
    "plt.rcParams.update({'font.size': 15})\n",
    "plt.tight_layout()\n",
    "plt.savefig('plots/fitted_Muon_Decay_Time_Histogram.pdf')"
   ]
  },
  {
   "cell_type": "code",
   "execution_count": null,
   "id": "4fa91633",
   "metadata": {
    "scrolled": true
   },
   "outputs": [],
   "source": []
  },
  {
   "cell_type": "code",
   "execution_count": null,
   "id": "471d103a",
   "metadata": {},
   "outputs": [],
   "source": []
  },
  {
   "cell_type": "code",
   "execution_count": null,
   "id": "24c0f4f6",
   "metadata": {},
   "outputs": [],
   "source": [
    "\n"
   ]
  },
  {
   "cell_type": "code",
   "execution_count": null,
   "id": "eec37fff",
   "metadata": {
    "scrolled": true
   },
   "outputs": [],
   "source": []
  },
  {
   "cell_type": "code",
   "execution_count": null,
   "id": "826982d1",
   "metadata": {},
   "outputs": [],
   "source": []
  },
  {
   "cell_type": "code",
   "execution_count": null,
   "id": "c8bf4d84",
   "metadata": {},
   "outputs": [],
   "source": []
  }
 ],
 "metadata": {
  "kernelspec": {
   "display_name": "Python 3 (ipykernel)",
   "language": "python",
   "name": "python3"
  },
  "language_info": {
   "codemirror_mode": {
    "name": "ipython",
    "version": 3
   },
   "file_extension": ".py",
   "mimetype": "text/x-python",
   "name": "python",
   "nbconvert_exporter": "python",
   "pygments_lexer": "ipython3",
   "version": "3.9.7"
  }
 },
 "nbformat": 4,
 "nbformat_minor": 5
}
