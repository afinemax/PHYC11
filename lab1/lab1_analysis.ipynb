{
 "cells": [
  {
   "cell_type": "markdown",
   "id": "56ef2607",
   "metadata": {},
   "source": [
    "# Muon Observation Data Analysis\n",
    "# By Max Fine for PHYC11 in 2022\n",
    "Using \"Muon Physics\""
   ]
  },
  {
   "cell_type": "code",
   "execution_count": 1,
   "id": "457bcd02",
   "metadata": {},
   "outputs": [],
   "source": [
    "# imports\n",
    "import numpy as np\n",
    "import matplotlib.pyplot as plt"
   ]
  },
  {
   "cell_type": "code",
   "execution_count": 7,
   "id": "765cde26",
   "metadata": {},
   "outputs": [],
   "source": [
    "# importing data from file\n",
    "f_name = \"test.data\" #change to data file name, expects it to be in  'data/f_name'\n",
    "\n",
    "path = \"data/\" +f_name\n",
    "raw_data = np.genfromtxt(path,delimiter=' ') # first index is row #, 2nd is col #"
   ]
  },
  {
   "cell_type": "code",
   "execution_count": 16,
   "id": "5b483e7c",
   "metadata": {},
   "outputs": [],
   "source": [
    "# data processing\n",
    "decay_data = raw_data[:,0]\n",
    "\n",
    "# values of >40000 indicate that a muon did not decay so we remove them\n",
    "index_proc = np.where(decay_data <4000)\n",
    "proc_data = decay_data[index_proc]"
   ]
  },
  {
   "cell_type": "code",
   "execution_count": 17,
   "id": "251975ac",
   "metadata": {},
   "outputs": [
    {
     "data": {
      "text/plain": [
       "array([ 360.,  980., 3800., ...,  460., 3760., 3140.])"
      ]
     },
     "execution_count": 17,
     "metadata": {},
     "output_type": "execute_result"
    }
   ],
   "source": [
    "proc_data"
   ]
  },
  {
   "cell_type": "code",
   "execution_count": 38,
   "id": "bf1ebcb0",
   "metadata": {},
   "outputs": [
    {
     "data": {
      "image/png": "[encoded data removed]",
      "text/plain": [
       "<Figure size 432x288 with 1 Axes>"
      ]
     },
     "metadata": {
      "needs_background": "light"
     },
     "output_type": "display_data"
    }
   ],
   "source": [
    "plt.hist(proc_data)\n",
    "plt.title('Muon Decay Time Histogram')\n",
    "plt.xlabel('Decay Time in $\\mu$s')\n",
    "plt.ylabel('Occurance')\n",
    "plt.rcParams.update({'font.size': 15})"
   ]
  },
  {
   "cell_type": "code",
   "execution_count": null,
   "id": "bf2be1c6",
   "metadata": {},
   "outputs": [],
   "source": []
  },
  {
   "cell_type": "code",
   "execution_count": 22,
   "id": "19dd3984",
   "metadata": {},
   "outputs": [],
   "source": []
  },
  {
   "cell_type": "code",
   "execution_count": null,
   "id": "be407dec",
   "metadata": {},
   "outputs": [],
   "source": []
  },
  {
   "cell_type": "code",
   "execution_count": null,
   "id": "0cd637e0",
   "metadata": {},
   "outputs": [],
   "source": []
  },
  {
   "cell_type": "code",
   "execution_count": null,
   "id": "50390614",
   "metadata": {},
   "outputs": [],
   "source": []
  },
  {
   "cell_type": "code",
   "execution_count": null,
   "id": "94dfdb63",
   "metadata": {},
   "outputs": [],
   "source": []
  }
 ],
 "metadata": {
  "kernelspec": {
   "display_name": "Python 3 (ipykernel)",
   "language": "python",
   "name": "python3"
  },
  "language_info": {
   "codemirror_mode": {
    "name": "ipython",
    "version": 3
   },
   "file_extension": ".py",
   "mimetype": "text/x-python",
   "name": "python",
   "nbconvert_exporter": "python",
   "pygments_lexer": "ipython3",
   "version": "3.9.7"
  }
 },
 "nbformat": 4,
 "nbformat_minor": 5
}
