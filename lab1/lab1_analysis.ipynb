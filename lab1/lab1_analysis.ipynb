{
 "cells": [
  {
   "cell_type": "markdown",
   "id": "bd69a6ed",
   "metadata": {},
   "source": [
    "# Muon Observation Data Analysis\n",
    "# By Max Fine for PHYC11 in 2022\n",
    "Using \"Muon Physics\""
   ]
  },
  {
   "cell_type": "code",
   "execution_count": 62,
   "id": "57eb1b31",
   "metadata": {},
   "outputs": [],
   "source": [
    "# imports\n",
    "import numpy as np\n",
    "import matplotlib.pyplot as plt\n",
    "from scipy.optimize import curve_fit"
   ]
  },
  {
   "cell_type": "code",
   "execution_count": 63,
   "id": "14972b8b",
   "metadata": {},
   "outputs": [],
   "source": [
    "# importing data from file\n",
    "f_name = \"run2.data\" #change to data file name, expects it to be in  'data/f_name'\n",
    "\n",
    "path = \"data/\" +f_name\n",
    "raw_data = np.genfromtxt(path,delimiter=' ') # first index is row #, 2nd is col #"
   ]
  },
  {
   "cell_type": "code",
   "execution_count": 64,
   "id": "66931b19",
   "metadata": {},
   "outputs": [],
   "source": [
    "# data processing\n",
    "decay_data = raw_data[:,0]\n",
    "\n",
    "# values of >40000 indicate that a muon did not decay so we remove them\n",
    "index_proc = np.where(decay_data <40000)\n",
    "proc_data = decay_data[index_proc]"
   ]
  },
  {
   "cell_type": "code",
   "execution_count": 65,
   "id": "10692e22",
   "metadata": {},
   "outputs": [],
   "source": [
    "data_len = len(proc_data)\n",
    "mean_lifetime = np.mean(proc_data) # no noise reduction!"
   ]
  },
  {
   "cell_type": "code",
   "execution_count": 66,
   "id": "fb28e5fc",
   "metadata": {
    "scrolled": true
   },
   "outputs": [
    {
     "data": {
      "image/png": "[encoded data removed]",
      "text/plain": [
       "<Figure size 432x288 with 1 Axes>"
      ]
     },
     "metadata": {
      "needs_background": "light"
     },
     "output_type": "display_data"
    }
   ],
   "source": [
    "#displaying raw data\n",
    "n_bins = 2* int(len(proc_data)**(1/3))\n",
    "n_bins = 20\n",
    "plt.hist(proc_data,n_bins)#bins=int(len(proc_data)**0.5))\n",
    "#plt.title('Muon Decay Time Histogram')\n",
    "plt.xlabel('Decay Time (ns)')#($\\mu$s)')\n",
    "plt.ylabel('Events')\n",
    "plt.rcParams.update({'font.size': 15})\n",
    "plt.tight_layout()\n",
    "plt.savefig('plots/Raw_Muon_Decay_Time_Histogram.pdf')\n"
   ]
  },
  {
   "cell_type": "code",
   "execution_count": 67,
   "id": "37b3b9d2",
   "metadata": {
    "scrolled": false
   },
   "outputs": [],
   "source": [
    "# finding half life/ time const\n",
    "\n",
    "def model(t, tou, A, N):\n",
    "    return A *np.exp((-1*t/tou)) + N # A is not the same as n_0, N is noise \n",
    "\n",
    "\n",
    "\n",
    "bins = np.linspace(0, np.max(proc_data),n_bins +1)\n",
    "data_entries_1, bins_1 = np.histogram(proc_data, bins=bins,)# density=True)\n",
    "binscenters = np.array([0.5 * (bins[i] + bins[i+1]) for i in range(len(bins)-1)])\n",
    "guess = np.array([np.mean(proc_data), data_entries_1[0], data_entries_1[-1]])\n",
    "popt, pcov = curve_fit(model, xdata=binscenters, ydata=data_entries_1, p0=guess)#p0=[20000, 2.0, 2000, 3.0, 0.3])\n",
    "\n",
    "\n"
   ]
  },
  {
   "cell_type": "code",
   "execution_count": 68,
   "id": "47b4c632",
   "metadata": {
    "scrolled": true
   },
   "outputs": [
    {
     "data": {
      "image/png": "[encoded data removed]",
      "text/plain": [
       "<Figure size 432x288 with 1 Axes>"
      ]
     },
     "metadata": {
      "needs_background": "light"
     },
     "output_type": "display_data"
    }
   ],
   "source": [
    "# plotting fitted model\n",
    "plt.bar(binscenters, data_entries_1, width=bins[1] - bins[0], color ='green', label=r'Raw Data')\n",
    "xspace = np.linspace(0,20000,100000)\n",
    "plt.plot(xspace, model(xspace, *popt), '--',color='black',linewidth=2.5 ,label=r'Fitted Model')\n",
    "#plt.plot(xspace, model(xspace, ), '--',color='black',linewidth=2.5 ,label=r'Fitted Model')\n",
    "plt.xlim(0,20000)\n",
    "plt.xlabel(r'Decay Time (ns)')#($\\mu$s)')\n",
    "plt.ylabel(r'Events')\n",
    "plt.legend(loc='best')\n",
    "plt.rcParams.update({'font.size': 15})\n",
    "plt.tight_layout()\n",
    "plt.savefig('plots/fitted_Muon_Decay_Time_Histogram.pdf')"
   ]
  },
  {
   "cell_type": "code",
   "execution_count": 69,
   "id": "4fa91633",
   "metadata": {
    "scrolled": false
   },
   "outputs": [
    {
     "name": "stdout",
     "output_type": "stream",
     "text": [
      "popt [2.04000371e+03 8.84359975e+01 7.85601796e-02]\n",
      "estimated lifetime is 2040.0037092690975\n",
      "mean life time of data is 2325.1612903225805\n",
      "Data std = 2927.633861627658\n"
     ]
    }
   ],
   "source": [
    "print('popt ' + str(popt))\n",
    "half_life = popt[0] # mew s\n",
    "print('estimated lifetime is ' + str(half_life))\n",
    "print('mean life time of data is ' + str(np.mean(proc_data)))\n",
    "print('Data std = '+ str(np.std(proc_data)))\n"
   ]
  },
  {
   "cell_type": "code",
   "execution_count": 70,
   "id": "471d103a",
   "metadata": {},
   "outputs": [
    {
     "data": {
      "text/plain": [
       "array([[ 3.32546925e+04, -5.84994814e+02, -9.20362107e+01],\n",
       "       [-5.84994814e+02,  2.37267834e+01,  2.18096133e-01],\n",
       "       [-9.20362107e+01,  2.18096133e-01,  9.35939184e-01]])"
      ]
     },
     "execution_count": 70,
     "metadata": {},
     "output_type": "execute_result"
    }
   ],
   "source": [
    "pcov"
   ]
  },
  {
   "cell_type": "code",
   "execution_count": null,
   "id": "24c0f4f6",
   "metadata": {},
   "outputs": [],
   "source": [
    "\n"
   ]
  },
  {
   "cell_type": "code",
   "execution_count": null,
   "id": "eec37fff",
   "metadata": {
    "scrolled": true
   },
   "outputs": [],
   "source": []
  },
  {
   "cell_type": "code",
   "execution_count": null,
   "id": "826982d1",
   "metadata": {},
   "outputs": [],
   "source": []
  },
  {
   "cell_type": "code",
   "execution_count": null,
   "id": "c8bf4d84",
   "metadata": {},
   "outputs": [],
   "source": []
  }
 ],
 "metadata": {
  "kernelspec": {
   "display_name": "Python 3 (ipykernel)",
   "language": "python",
   "name": "python3"
  },
  "language_info": {
   "codemirror_mode": {
    "name": "ipython",
    "version": 3
   },
   "file_extension": ".py",
   "mimetype": "text/x-python",
   "name": "python",
   "nbconvert_exporter": "python",
   "pygments_lexer": "ipython3",
   "version": "3.9.7"
  }
 },
 "nbformat": 4,
 "nbformat_minor": 5
}
