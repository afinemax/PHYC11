{
 "cells": [
  {
   "cell_type": "markdown",
   "id": "bd69a6ed",
   "metadata": {},
   "source": [
    "# Muon Observation Data Analysis\n",
    "# By Max Fine for PHYC11 in 2022\n",
    "Using \"Muon Physics\""
   ]
  },
  {
   "cell_type": "code",
   "execution_count": 87,
   "id": "57eb1b31",
   "metadata": {},
   "outputs": [],
   "source": [
    "# imports\n",
    "import numpy as np\n",
    "import matplotlib.pyplot as plt\n",
    "from scipy.optimize import curve_fit\n",
    "import scipy.constants\n",
    "c = scipy.constants.c\n",
    "hbar = scipy.constants.hbar\n",
    "me = scipy.constants.m_e\n",
    "m_muon = 206.768283046 *me\n"
   ]
  },
  {
   "cell_type": "code",
   "execution_count": null,
   "id": "547c5f16",
   "metadata": {},
   "outputs": [],
   "source": []
  },
  {
   "cell_type": "code",
   "execution_count": 88,
   "id": "14972b8b",
   "metadata": {},
   "outputs": [],
   "source": [
    "# importing data from file\n",
    "data_names = ['run1.data','run2.data','run3.data','run4.data']\n",
    "f_name3 = \"run5.data\" #change to data file name, expects it to be in  'data/f_name'\n",
    "f_name4 = 'run4.data'\n",
    "\n",
    "path3 = \"data/\" + f_name3\n",
    "path4 = 'data/' + f_name4\n",
    "\n",
    "raw_data3 = np.genfromtxt(path3,delimiter=' ') # first index is row #, 2nd is col #\n",
    "raw_data4 = np.genfromtxt(path4,delimiter=' ')"
   ]
  },
  {
   "cell_type": "code",
   "execution_count": 89,
   "id": "dfa6c2c7",
   "metadata": {},
   "outputs": [],
   "source": [
    "#data_dict"
   ]
  },
  {
   "cell_type": "code",
   "execution_count": 90,
   "id": "66931b19",
   "metadata": {},
   "outputs": [],
   "source": [
    "# data processing\n",
    "decay_data3 = raw_data3[:,0]\n",
    "decay_data4 = raw_data4[:,0]\n",
    "\n",
    "# values of >40000 indicate that a muon did not decay so we remove them\n",
    "#40000) #and np.where(decay_data > 60)) #40000) #40000)\n",
    "index_proc3 = np.where(decay_data3 < 12000) \n",
    "proc_data3 = decay_data3[index_proc3]\n",
    "# 14000\n",
    "index_proc4 = np.where(decay_data4 < 12000) \n",
    "proc_data4 = decay_data4[index_proc4]\n",
    "\n"
   ]
  },
  {
   "cell_type": "code",
   "execution_count": 91,
   "id": "10692e22",
   "metadata": {
    "scrolled": true
   },
   "outputs": [
    {
     "name": "stdout",
     "output_type": "stream",
     "text": [
      "1718\n",
      "5603\n"
     ]
    }
   ],
   "source": [
    "data_len3 = len(proc_data3)\n",
    "data_len4 = len(proc_data4)\n",
    "print(data_len3)\n",
    "print(data_len4)"
   ]
  },
  {
   "cell_type": "code",
   "execution_count": 92,
   "id": "fb28e5fc",
   "metadata": {
    "scrolled": false
   },
   "outputs": [
    {
     "data": {
      "image/png": "[encoded data removed]",
      "text/plain": [
       "<Figure size 432x360 with 1 Axes>"
      ]
     },
     "metadata": {
      "needs_background": "light"
     },
     "output_type": "display_data"
    }
   ],
   "source": [
    "#displaying procc data 3\n",
    "n_bins3 =  2 *int(len(proc_data3)**(1/3))\n",
    "plt.figure(figsize=(6, 5))\n",
    "#n_bins = 30\n",
    "plt.hist(proc_data3/1000,n_bins3)#bins=int(len(proc_data)**0.5))\n",
    "#plt.title('Muon Decay Time Histogram')\n",
    "plt.xlabel('Decay Time ($\\mu s$)')#($\\mu$s)')\n",
    "plt.ylabel('Events')\n",
    "plt.title('Raw Data for Run Three')\n",
    "plt.rcParams.update({'font.size': 16})\n",
    "\n",
    "#plt.xlim(0,700)\n",
    "plt.tight_layout()\n",
    "\n",
    "plt.savefig('plots/3Raw_Muon_Decay_Time_Histogram.pdf')\n"
   ]
  },
  {
   "cell_type": "code",
   "execution_count": 93,
   "id": "fe878559",
   "metadata": {},
   "outputs": [
    {
     "data": {
      "image/png": "[encoded data removed]",
      "text/plain": [
       "<Figure size 432x360 with 1 Axes>"
      ]
     },
     "metadata": {
      "needs_background": "light"
     },
     "output_type": "display_data"
    }
   ],
   "source": [
    "#displaying procc data 4\n",
    "n_bins4 =  2 *int(len(proc_data4)**(1/3))\n",
    "#n_bins = 30\n",
    "plt.figure(figsize=(6, 5))\n",
    "plt.hist(proc_data4/1000,n_bins4)#bins=int(len(proc_data)**0.5))\n",
    "#plt.title('Muon Decay Time Histogram')\n",
    "plt.xlabel('Decay Time ($\\mu s$)')#($\\mu$s)')\n",
    "plt.rcParams.update({'font.size': 16})\n",
    "plt.ylabel('Events')\n",
    "plt.title('Raw Data for Run Four')\n",
    "#plt.xlim(0,700)\n",
    "plt.tight_layout()\n",
    "plt.savefig('plots/4Raw_Muon_Decay_Time_Histogram.pdf')"
   ]
  },
  {
   "cell_type": "code",
   "execution_count": 94,
   "id": "4ba5c77d",
   "metadata": {},
   "outputs": [
    {
     "name": "stdout",
     "output_type": "stream",
     "text": [
      "3.6666666666666665\n",
      "std for noise3 is 2.8674417556808756\n",
      "1.0\n",
      "std for noise4 is 0.816496580927726\n"
     ]
    }
   ],
   "source": [
    "# noise estimatation\n",
    "# we take the avg events per bin for the last 2-3 bins and call it N \n",
    "\n",
    "bins3 = np.linspace(0, np.max(proc_data3),n_bins3 +1)\n",
    "data_entries_3, bins_3 = np.histogram(proc_data3, bins=bins3,)\n",
    "binscenters3 = np.array([0.5 * (bins3[i] + bins3[i+1]) for i in range(len(bins3)-1)])\n",
    "noise3 = np.average(data_entries_3[-4:-1])\n",
    "std3 = np.std(data_entries_3[-4:-1])\n",
    "print(noise3)\n",
    "print('std for noise3 is ' + str(std3))\n",
    "\n",
    "bins4 = np.linspace(0, np.max(proc_data4),n_bins4 +1)\n",
    "data_entries_4, bins_4 = np.histogram(proc_data4, bins=bins4,)\n",
    "binscenters4 = np.array([0.5 * (bins4[i] + bins4[i+1]) for i in range(len(bins4)-1)])\n",
    "noise4 = np.average(data_entries_4[-4:-1])\n",
    "std4 = np.std(data_entries_4[-4:-1])\n",
    "print(noise4)\n",
    "print('std for noise4 is ' + str(std4))"
   ]
  },
  {
   "cell_type": "code",
   "execution_count": 95,
   "id": "57768e73",
   "metadata": {},
   "outputs": [],
   "source": [
    "# cutting out the first 500ns\n",
    "\n",
    "index_proc3 = np.where(proc_data3 > 700) \n",
    "proc_data3 = proc_data3[index_proc3]\n",
    "\n",
    "\n",
    "index_proc4 = np.where(proc_data4 > 700) \n",
    "proc_data4 = proc_data4[index_proc4]\n"
   ]
  },
  {
   "cell_type": "code",
   "execution_count": 96,
   "id": "37b3b9d2",
   "metadata": {
    "scrolled": false
   },
   "outputs": [],
   "source": [
    "# finding half life/ time const\n",
    "\n",
    "def model3(t, tou, A):\n",
    "    return A *np.exp((-1*t/tou)) + noise3 #+ N # A is not the same as n_0, N is noise \n",
    "\n",
    "def model4(t, tou, A):\n",
    "    return A *np.exp((-1*t/tou)) + noise4 #+ N # A is not the same as n_0, N is noise \n",
    "\n",
    "def expected3(t,A):\n",
    "    return A *np.exp((-1*t/(2.19703 *1000))) + noise3\n",
    "\n",
    "def expected4(t,A):\n",
    "    return A *np.exp((-1*t/(2.19703 *1000))) + noise4\n",
    "\n",
    "\n",
    "# the first bin appears to be noisy, so we will mask it. \n",
    "# This wont effect the outcome if it was not noisy becaues it still follows exp\n",
    "#n_bins = int(len(0.5*proc_data)**0.5)\n",
    "#bins = np.linspace(0, np.max(proc_data),n_bins +1)\n",
    "#data_entries_1, bins_1 = np.histogram(proc_data, bins=bins,)# density=True)\n",
    "#data_entries = data_entries_1[1:]\n",
    "#bins = np.linspace(0, np.max(proc_data),n_bins )\n",
    "#binscenters = np.array([0.5 * (bins[i] + bins[i+1]) for i in range(len(bins)-1)])\n",
    "#guess = np.array([np.mean(proc_data), data_entries_1[0]])\n",
    "#popt, pcov = curve_fit(model, xdata=binscenters, ydata=data_entries, p0=guess)#p0=[20000, 2.0, 2000, 3.0, 0.3])\n",
    "\n",
    "\n"
   ]
  },
  {
   "cell_type": "code",
   "execution_count": 114,
   "id": "b1ef15a4",
   "metadata": {},
   "outputs": [
    {
     "data": {
      "text/plain": [
       "3.6666666666666665"
      ]
     },
     "execution_count": 114,
     "metadata": {},
     "output_type": "execute_result"
    }
   ],
   "source": [
    "noise3"
   ]
  },
  {
   "cell_type": "code",
   "execution_count": 117,
   "id": "9a06e0a8",
   "metadata": {
    "scrolled": true
   },
   "outputs": [
    {
     "name": "stdout",
     "output_type": "stream",
     "text": [
      "5.815247634947134\n",
      "4.5476956058377835\n",
      "2.5876460767946576\n",
      "2.112804174353882\n"
     ]
    }
   ],
   "source": [
    "# fitting the model\n",
    "bins3 = np.linspace(0, np.max(proc_data3),n_bins3 +1)\n",
    "data_entries_3, bins_1 = np.histogram(proc_data3, bins=bins3,)# density=True)\n",
    "data_entries3 = data_entries_3[2:]\n",
    "bins3 = np.linspace(0, np.max(proc_data3),n_bins3 )\n",
    "binscenters3 = np.array([0.5 * (bins3[i] + bins3[i+1]) for i in range(len(bins3)-2)])\n",
    "guess = np.array([np.mean(proc_data3), data_entries3[0]])\n",
    "popt3, pcov3 = curve_fit(model3, xdata=binscenters3, ydata=data_entries3, p0=guess)#p0=[20000, 2.0, 2000, 3.0, 0.3])\n",
    "print( 1000*noise3 / (bins3[1]-bins3[0]))\n",
    "print(1000*std3/(bins3[1]-bins3[0]))\n",
    "\n",
    "bins4 = np.linspace(0, np.max(proc_data4),n_bins4 +1)\n",
    "data_entries_1, bins_1 = np.histogram(proc_data4, bins=bins4,)# density=True)\n",
    "data_entries4 = data_entries_1[2:]\n",
    "bins4 = np.linspace(0, np.max(proc_data4),n_bins4 )\n",
    "binscenters4 = np.array([0.5 * (bins4[i] + bins4[i+1]) for i in range(len(bins4)-2)])\n",
    "guess = np.array([np.mean(proc_data4), data_entries4[0]])\n",
    "popt4, pcov4 = curve_fit(model4, xdata=binscenters4, ydata=data_entries4, p0=guess)#p0=[20000, 2.0, 2000, 3.0, 0.3])\n",
    "print( 1000*noise4 / (bins4[1]-bins4[0]))\n",
    "std4 = np.std(data_entries_4[-4:-1])\n",
    "print(1000*std4/(bins4[1]-bins4[0]))"
   ]
  },
  {
   "cell_type": "code",
   "execution_count": 98,
   "id": "47b4c632",
   "metadata": {
    "scrolled": false
   },
   "outputs": [
    {
     "name": "stdout",
     "output_type": "stream",
     "text": [
      "popt3 [2134.01120761  256.09651842]\n",
      "estimated lifetime is 2134.011207606637\n"
     ]
    },
    {
     "data": {
      "image/png": "[encoded data removed]",
      "text/plain": [
       "<Figure size 432x360 with 1 Axes>"
      ]
     },
     "metadata": {
      "needs_background": "light"
     },
     "output_type": "display_data"
    }
   ],
   "source": [
    "# plotting fitted models\n",
    "plt.figure(figsize=(6, 5))\n",
    "plt.bar(binscenters3/1000, data_entries3, width=(bins3[1] - bins3[0])/1000, color ='green', label=r'Raw Data')\n",
    "xspace = np.linspace(0,20000,100000)\n",
    "plt.plot(xspace /1000, expected3(xspace, popt3[1]), color='blue',linewidth=2.5 ,label=r'Expected Results')\n",
    "plt.plot(xspace /1000, model3(xspace, *popt3), '--',color='black',linewidth=2.5 ,label=r'Fitted Model')\n",
    "plt.xlim(0,np.max(proc_data4)/1000)\n",
    "plt.xlabel(r'Decay Time ($\\mu s$)')#($\\mu$s)')\n",
    "plt.ylabel(r'Events')\n",
    "plt.legend(loc='best')\n",
    "plt.title('Processed Data for Run Three')\n",
    "plt.rcParams.update({'font.size': 16})\n",
    "plt.tight_layout()\n",
    "plt.savefig('plots/fitted_Muon_Decay_Time_Histogram' +'3' +'.pdf')\n",
    "print('popt3 ' + str(popt3))\n",
    "half_life3 = popt3[0] # mew s\n",
    "print('estimated lifetime is ' + str(half_life3))\n"
   ]
  },
  {
   "cell_type": "code",
   "execution_count": 99,
   "id": "94df825d",
   "metadata": {},
   "outputs": [
    {
     "name": "stdout",
     "output_type": "stream",
     "text": [
      "popt4 [2010.7309544   215.40564813]\n",
      "estimated lifetime is 2010.730954403553\n"
     ]
    },
    {
     "data": {
      "image/png": "[encoded data removed]",
      "text/plain": [
       "<Figure size 432x360 with 1 Axes>"
      ]
     },
     "metadata": {
      "needs_background": "light"
     },
     "output_type": "display_data"
    }
   ],
   "source": [
    "plt.figure(figsize=(6, 5))\n",
    "plt.bar(binscenters4/1000, data_entries4, width=(bins4[1] - bins4[0])/1000, color ='green', label=r'Raw Data')\n",
    "xspace = np.linspace(0,20000,100000)\n",
    "plt.plot(xspace /1000, expected4(xspace, popt4[1]), color='blue',linewidth=2.5 ,label=r'Expected Results')\n",
    "plt.plot(xspace /1000, model4(xspace, *popt4), '--',color='black',linewidth=2.5 ,label=r'Fitted Model')\n",
    "\n",
    "plt.xlim(0,np.max(proc_data4)/1000)\n",
    "plt.xlabel(r'Decay Time ($\\mu s$)')#($\\mu$s)')\n",
    "plt.ylabel(r'Events')\n",
    "plt.legend(loc='best')\n",
    "plt.title('Processed Data for Run Four')\n",
    "plt.rcParams.update({'font.size': 16})\n",
    "plt.tight_layout()\n",
    "plt.savefig('plots/fitted_Muon_Decay_Time_Histogram' +'4' +'.pdf')\n",
    "print('popt4 ' + str(popt4))\n",
    "half_life4 = popt4[0] # mew s\n",
    "print('estimated lifetime is ' + str(half_life4))"
   ]
  },
  {
   "cell_type": "code",
   "execution_count": 100,
   "id": "4fa91633",
   "metadata": {
    "scrolled": true
   },
   "outputs": [
    {
     "name": "stdout",
     "output_type": "stream",
     "text": [
      "2058.1464364047392\n"
     ]
    }
   ],
   "source": [
    "# final estimation\n",
    "# using a weighted average of the two values. \n",
    "half_life = (half_life3 * len(binscenters3)+half_life4 *len(binscenters4))/(len(binscenters3) +len(binscenters4)) \n",
    "print(half_life)  #ns"
   ]
  },
  {
   "cell_type": "code",
   "execution_count": 101,
   "id": "471d103a",
   "metadata": {},
   "outputs": [],
   "source": [
    "# error estimation "
   ]
  },
  {
   "cell_type": "code",
   "execution_count": 102,
   "id": "24c0f4f6",
   "metadata": {
    "scrolled": true
   },
   "outputs": [
    {
     "name": "stdout",
     "output_type": "stream",
     "text": [
      "popt3 [2010.16034153  246.2268313 ]\n",
      "popt3 [2444.07737163  156.82797219]\n",
      "2444.077371630259\n"
     ]
    }
   ],
   "source": [
    "# 10% more bins\n",
    "n_bins3 = int(1.2* n_bins3)\n",
    "n_bins4 = int(1.2 * n_bins4)\n",
    "\n",
    "bins3 = np.linspace(0, np.max(proc_data3),n_bins3 +1)\n",
    "data_entries_3, bins_1 = np.histogram(proc_data3, bins=bins3,)# density=True)\n",
    "data_entries3 = data_entries_3[2:]\n",
    "bins3 = np.linspace(0, np.max(proc_data3),n_bins3 )\n",
    "binscenters3 = np.array([0.5 * (bins3[i] + bins3[i+1]) for i in range(len(bins3)-2)])\n",
    "guess = np.array([np.mean(proc_data3), data_entries3[0]])\n",
    "popt3, pcov3 = curve_fit(model3, xdata=binscenters3, ydata=data_entries3, p0=guess)#p0=[20000, 2.0, 2000, 3.0, 0.3])\n",
    "\n",
    "bins4 = np.linspace(0, np.max(proc_data4),n_bins4 +1)\n",
    "data_entries_1, bins_1 = np.histogram(proc_data4, bins=bins4,)# density=True)\n",
    "data_entries4 = data_entries_1[2:]\n",
    "bins4 = np.linspace(0, np.max(proc_data4),n_bins4 )\n",
    "binscenters4 = np.array([0.5 * (bins4[i] + bins4[i+1]) for i in range(len(bins4)-2)])\n",
    "guess = np.array([np.mean(proc_data4), data_entries4[0]])\n",
    "popt4, pcov4 = curve_fit(model4, xdata=binscenters4, ydata=data_entries4, p0=guess)#p0=[20000, 2.0, 2000, 3.0, 0.3])\n",
    "\n",
    "print('popt3 ' + str(popt3))\n",
    "half_life3_high = popt4[0] # mew s\n",
    "\n",
    "print('popt3 ' + str(popt4))\n",
    "half_life4_high = popt4[0] # mew s\n",
    "\n",
    "avg_half_life_high = ((half_life3_high * len(binscenters3)+half_life4_high *len(binscenters4))/(len(binscenters3) +len(binscenters4))) \n",
    "print(avg_half_life_high)  #ns"
   ]
  },
  {
   "cell_type": "code",
   "execution_count": 103,
   "id": "eec37fff",
   "metadata": {
    "scrolled": true
   },
   "outputs": [
    {
     "name": "stdout",
     "output_type": "stream",
     "text": [
      "popt3 [2126.42168322  272.33753062]\n",
      "popt3 [2030.98644254  222.39135571]\n",
      "2030.9864425421283\n"
     ]
    }
   ],
   "source": [
    "# 10% fewer bins\n",
    "n_bins3 = int(0.8* n_bins3)\n",
    "n_bins4 = int(0.8 * n_bins4)\n",
    "\n",
    "bins3 = np.linspace(0, np.max(proc_data3),n_bins3 +1)\n",
    "data_entries_3, bins_1 = np.histogram(proc_data3, bins=bins3,)# density=True)\n",
    "data_entries3 = data_entries_3[2:]\n",
    "bins3 = np.linspace(0, np.max(proc_data3),n_bins3 )\n",
    "binscenters3 = np.array([0.5 * (bins3[i] + bins3[i+1]) for i in range(len(bins3)-2)])\n",
    "guess = np.array([np.mean(proc_data3), data_entries3[0]])\n",
    "popt3, pcov3 = curve_fit(model3, xdata=binscenters3, ydata=data_entries3, p0=guess)#p0=[20000, 2.0, 2000, 3.0, 0.3])\n",
    "\n",
    "bins4 = np.linspace(0, np.max(proc_data4),n_bins4 +1)\n",
    "data_entries_1, bins_1 = np.histogram(proc_data4, bins=bins4,)# density=True)\n",
    "data_entries4 = data_entries_1[2:]\n",
    "bins4 = np.linspace(0, np.max(proc_data4),n_bins4 )\n",
    "binscenters4 = np.array([0.5 * (bins4[i] + bins4[i+1]) for i in range(len(bins4)-2)])\n",
    "guess = np.array([np.mean(proc_data4), data_entries4[0]])\n",
    "popt4, pcov4 = curve_fit(model4, xdata=binscenters4, ydata=data_entries4, p0=guess)#p0=[20000, 2.0, 2000, 3.0, 0.3])\n",
    "\n",
    "print('popt3 ' + str(popt3))\n",
    "half_life3_low = popt4[0] # mew s\n",
    "\n",
    "print('popt3 ' + str(popt4))\n",
    "half_life4_low = popt4[0] # mew s\n",
    "\n",
    "avg_half_life_low = ((half_life3_low * len(binscenters3)+half_life4_low *len(binscenters4))/(len(binscenters3) +len(binscenters4))) \n",
    "print(avg_half_life_low)  #ns"
   ]
  },
  {
   "cell_type": "code",
   "execution_count": 104,
   "id": "826982d1",
   "metadata": {
    "scrolled": false
   },
   "outputs": [
    {
     "name": "stdout",
     "output_type": "stream",
     "text": [
      "206.54546454406545\n"
     ]
    }
   ],
   "source": [
    "error = np.abs(avg_half_life_low - avg_half_life_high)/2 \n",
    "# we will round this up to the next whole number of the leading digit\n",
    "print(error) #ns lets round up to the next whole number so 400 ns"
   ]
  },
  {
   "cell_type": "code",
   "execution_count": 122,
   "id": "c8bf4d84",
   "metadata": {
    "scrolled": true
   },
   "outputs": [
    {
     "name": "stdout",
     "output_type": "stream",
     "text": [
      "8.526538654164794\n",
      "1.4802332411474197e-62\n"
     ]
    }
   ],
   "source": [
    "# ratio and G_f\n",
    "t_c = 2043\n",
    "t_known = 2197.03\n",
    "t_obs = half_life\n",
    "\n",
    "rho = -(t_c/t_known) * ((t_known-t_obs)/(t_c-t_obs))\n",
    "e_rho = ((error/(t_known-t_obs))**2 + (error/(t_c-t_obs))**2)**0.5\n",
    "print(rho)\n",
    "\n",
    "gf = np.sqrt((192 *np.pi**3 * hbar**7)/(t_obs*10**-9 * m_muon**5 * c**4))\n",
    "print(gf) # Si units \n",
    "\n"
   ]
  },
  {
   "cell_type": "code",
   "execution_count": 106,
   "id": "78120ed9",
   "metadata": {},
   "outputs": [
    {
     "data": {
      "text/plain": [
       "468424455672555.5"
      ]
     },
     "execution_count": 106,
     "metadata": {},
     "output_type": "execute_result"
    }
   ],
   "source": [
    "gf/ (hbar *c)**3"
   ]
  },
  {
   "cell_type": "code",
   "execution_count": 107,
   "id": "30191d90",
   "metadata": {},
   "outputs": [],
   "source": [
    "j =  6241495961.7521  #Gev\n",
    "#j = 1.609 * 10**2"
   ]
  },
  {
   "cell_type": "code",
   "execution_count": 108,
   "id": "b8291a22",
   "metadata": {},
   "outputs": [
    {
     "data": {
      "text/plain": [
       "1.2024365616649019e-05"
      ]
     },
     "execution_count": 108,
     "metadata": {},
     "output_type": "execute_result"
    }
   ],
   "source": [
    "gf/ (hbar *c)**3 *j**-2 "
   ]
  },
  {
   "cell_type": "code",
   "execution_count": 109,
   "id": "cb51b16d",
   "metadata": {
    "scrolled": false
   },
   "outputs": [
    {
     "name": "stdout",
     "output_type": "stream",
     "text": [
      "6.033531283801369e-07\n"
     ]
    }
   ],
   "source": [
    "new_gf = gf/ (hbar *c)**3 *j**-2 \n",
    "\n",
    "e_gf = (error/half_life) *new_gf * 0.5\n",
    "print(e_gf)"
   ]
  },
  {
   "cell_type": "code",
   "execution_count": 110,
   "id": "c6f1bf26",
   "metadata": {
    "scrolled": true
   },
   "outputs": [],
   "source": [
    "e_rho = 2 * error/half_life"
   ]
  },
  {
   "cell_type": "code",
   "execution_count": 111,
   "id": "9d9ebf80",
   "metadata": {},
   "outputs": [
    {
     "data": {
      "text/plain": [
       "1.7113630557345534"
      ]
     },
     "execution_count": 111,
     "metadata": {},
     "output_type": "execute_result"
    }
   ],
   "source": [
    "e_rho *rho "
   ]
  },
  {
   "cell_type": "code",
   "execution_count": 124,
   "id": "2d4a71c1",
   "metadata": {},
   "outputs": [
    {
     "data": {
      "text/plain": [
       "1371.7426959481895"
      ]
     },
     "execution_count": 124,
     "metadata": {},
     "output_type": "execute_result"
    }
   ],
   "source": [
    "e_rho"
   ]
  },
  {
   "cell_type": "code",
   "execution_count": 118,
   "id": "596bad24",
   "metadata": {},
   "outputs": [
    {
     "data": {
      "text/plain": [
       "2058.1464364047392"
      ]
     },
     "execution_count": 118,
     "metadata": {},
     "output_type": "execute_result"
    }
   ],
   "source": [
    "half_life"
   ]
  },
  {
   "cell_type": "code",
   "execution_count": 125,
   "id": "c3d7f54b",
   "metadata": {},
   "outputs": [
    {
     "name": "stdout",
     "output_type": "stream",
     "text": [
      "8.526538654164794\n"
     ]
    }
   ],
   "source": [
    "rho = -(t_c/t_known) * ((t_known-t_obs)/(t_c-t_obs))\n",
    "e_rho = ((error/(t_known-t_obs))**2 + (error/(t_c-t_obs))**2)**0.5\n",
    "print(rho)"
   ]
  },
  {
   "cell_type": "code",
   "execution_count": 126,
   "id": "e5363030",
   "metadata": {
    "scrolled": true
   },
   "outputs": [
    {
     "data": {
      "text/plain": [
       "8.526538654164794"
      ]
     },
     "execution_count": 126,
     "metadata": {},
     "output_type": "execute_result"
    }
   ],
   "source": [
    "rho"
   ]
  },
  {
   "cell_type": "markdown",
   "id": "78026e28",
   "metadata": {},
   "source": [
    "20 %"
   ]
  },
  {
   "cell_type": "code",
   "execution_count": 132,
   "id": "dd2130ec",
   "metadata": {},
   "outputs": [
    {
     "data": {
      "text/plain": [
       "2.211717339991664"
      ]
     },
     "execution_count": 132,
     "metadata": {},
     "output_type": "execute_result"
    }
   ],
   "source": [
    "(error/(t_known-t_obs))**2"
   ]
  },
  {
   "cell_type": "code",
   "execution_count": 129,
   "id": "33a2c8ef",
   "metadata": {},
   "outputs": [
    {
     "data": {
      "text/plain": [
       "116.96217120570462"
      ]
     },
     "execution_count": 129,
     "metadata": {},
     "output_type": "execute_result"
    }
   ],
   "source": [
    "e_rho *rho"
   ]
  },
  {
   "cell_type": "code",
   "execution_count": 131,
   "id": "0a4734b1",
   "metadata": {},
   "outputs": [
    {
     "data": {
      "text/plain": [
       "185.9560850487291"
      ]
     },
     "execution_count": 131,
     "metadata": {},
     "output_type": "execute_result"
    }
   ],
   "source": [
    "(error/(t_c-t_obs))**2"
   ]
  },
  {
   "cell_type": "code",
   "execution_count": 138,
   "id": "c81ab0b4",
   "metadata": {},
   "outputs": [],
   "source": [
    "e_rho = ((error/(t_known-t_obs))**2 + (error/(t_c-t_obs))**2 )**0.5  "
   ]
  },
  {
   "cell_type": "code",
   "execution_count": 137,
   "id": "c51af638",
   "metadata": {},
   "outputs": [
    {
     "data": {
      "text/plain": [
       "8.526538654164794"
      ]
     },
     "execution_count": 137,
     "metadata": {},
     "output_type": "execute_result"
    }
   ],
   "source": []
  },
  {
   "cell_type": "code",
   "execution_count": 139,
   "id": "93ecd252",
   "metadata": {},
   "outputs": [
    {
     "data": {
      "text/plain": [
       "1371.7426959481895"
      ]
     },
     "execution_count": 139,
     "metadata": {},
     "output_type": "execute_result"
    }
   ],
   "source": [
    "e_rho * 100"
   ]
  },
  {
   "cell_type": "code",
   "execution_count": null,
   "id": "ea9ada03",
   "metadata": {},
   "outputs": [],
   "source": []
  }
 ],
 "metadata": {
  "kernelspec": {
   "display_name": "Python 3 (ipykernel)",
   "language": "python",
   "name": "python3"
  },
  "language_info": {
   "codemirror_mode": {
    "name": "ipython",
    "version": 3
   },
   "file_extension": ".py",
   "mimetype": "text/x-python",
   "name": "python",
   "nbconvert_exporter": "python",
   "pygments_lexer": "ipython3",
   "version": "3.9.7"
  }
 },
 "nbformat": 4,
 "nbformat_minor": 5
}
