{
 "cells": [
  {
   "cell_type": "markdown",
   "id": "3a0563f6",
   "metadata": {},
   "source": [
    "# PHYC11 plotting activity\n",
    "# Maxwell Fine *1004714400*"
   ]
  },
  {
   "cell_type": "code",
   "execution_count": 18,
   "id": "c2ebeb01",
   "metadata": {},
   "outputs": [],
   "source": [
    "#imports\n",
    "import numpy as np\n",
    "import matplotlib.pyplot as plt\n",
    "import yfinance as yf"
   ]
  },
  {
   "cell_type": "code",
   "execution_count": 19,
   "id": "2a897222",
   "metadata": {},
   "outputs": [
    {
     "name": "stdout",
     "output_type": "stream",
     "text": [
      "[*********************100%***********************]  1 of 1 completed\n",
      "[*********************100%***********************]  1 of 1 completed\n"
     ]
    },
    {
     "data": {
      "text/plain": [
       "<bound method NDFrame.tail of                   Open        High         Low       Close   Adj Close  \\\n",
       "Date                                                                     \n",
       "1999-05-07   52.687500   53.125000   51.562500   52.968750   45.881012   \n",
       "1999-05-10   53.312500   53.859375   52.687500   53.500000   46.341179   \n",
       "1999-05-11   53.937500   54.625000   53.625000   54.343750   47.072025   \n",
       "1999-05-12   54.593750   55.656250   53.000000   55.468750   48.046478   \n",
       "1999-05-13   55.906250   56.000000   54.187500   54.437500   47.153229   \n",
       "...                ...         ...         ...         ...         ...   \n",
       "2022-01-24  345.910004  353.980011  334.149994  353.299988  353.299988   \n",
       "2022-01-25  346.670013  351.029999  341.679993  345.109985  345.109985   \n",
       "2022-01-26  352.910004  356.880005  340.779999  344.570007  344.570007   \n",
       "2022-01-27  349.399994  351.269989  340.049988  341.100006  341.100006   \n",
       "2022-01-28  343.029999  352.019989  337.950012  351.799988  351.799988   \n",
       "\n",
       "               Volume  \n",
       "Date                   \n",
       "1999-05-07   16430400  \n",
       "1999-05-10   10604200  \n",
       "1999-05-11    8800800  \n",
       "1999-05-12   12507400  \n",
       "1999-05-13    9864000  \n",
       "...               ...  \n",
       "2022-01-24  198685800  \n",
       "2022-01-25  124398400  \n",
       "2022-01-26  146559500  \n",
       "2022-01-27   95255700  \n",
       "2022-01-28  108167900  \n",
       "\n",
       "[5721 rows x 6 columns]>"
      ]
     },
     "execution_count": 19,
     "metadata": {},
     "output_type": "execute_result"
    }
   ],
   "source": [
    "# importing stock data\n",
    "start_date = '1999-05-07'\n",
    "end_date = '2022-01-31'\n",
    "ticker1 = 'qqq'\n",
    "ticker2 = 'spy'\n",
    "data1 = yf.download(ticker1,start_date, end_date)\n",
    "#data2 = yf.download(ticker2,start_date, end_date)\n",
    "#data1.tail #shows data format"
   ]
  },
  {
   "cell_type": "code",
   "execution_count": 20,
   "id": "b9c3ac6f",
   "metadata": {},
   "outputs": [],
   "source": [
    "qqq = data1['Open']\n",
    "#spy = data2['Open']\n",
    "#dates = data1['Date']\n",
    "\n",
    "#save data output to file\n",
    "#np.savetxt('plot_act_data', qqq)\n",
    "data1.to_excel(\"data.xlsx\") #exports data .csv is not supported :("
   ]
  },
  {
   "cell_type": "code",
   "execution_count": 21,
   "id": "f8dc2012",
   "metadata": {
    "scrolled": false
   },
   "outputs": [
    {
     "data": {
      "image/png": "[encoded data removed]",
      "text/plain": [
       "<Figure size 720x288 with 1 Axes>"
      ]
     },
     "metadata": {
      "needs_background": "light"
     },
     "output_type": "display_data"
    }
   ],
   "source": [
    "plt.figure(figsize=(10.0, 4.0))\n",
    "plt.plot(qqq, color ='green')\n",
    "plt.title('QQQ Price')\n",
    "plt.xlabel('Time (Years)')\n",
    "plt.ylabel('Price (USD)')\n",
    "plt.rcParams.update({'font.size': 15})\n",
    "#txt=\"Caption\"\n",
    "#plt.figtext(0.5, 0.0, txt, wrap=True, horizontalalignment='center', fontsize=15)\n",
    "plt.tight_layout()\n",
    "plt.savefig('QQQ_stock_data.pdf')\n"
   ]
  },
  {
   "cell_type": "code",
   "execution_count": null,
   "id": "c9bc3f97",
   "metadata": {},
   "outputs": [],
   "source": []
  },
  {
   "cell_type": "code",
   "execution_count": null,
   "id": "2d109df3",
   "metadata": {},
   "outputs": [],
   "source": []
  }
 ],
 "metadata": {
  "kernelspec": {
   "display_name": "Python 3 (ipykernel)",
   "language": "python",
   "name": "python3"
  },
  "language_info": {
   "codemirror_mode": {
    "name": "ipython",
    "version": 3
   },
   "file_extension": ".py",
   "mimetype": "text/x-python",
   "name": "python",
   "nbconvert_exporter": "python",
   "pygments_lexer": "ipython3",
   "version": "3.9.7"
  }
 },
 "nbformat": 4,
 "nbformat_minor": 5
}
