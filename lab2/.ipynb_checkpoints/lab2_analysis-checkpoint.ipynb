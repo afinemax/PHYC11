{
 "cells": [
  {
   "cell_type": "markdown",
   "id": "3fd80d74",
   "metadata": {},
   "source": [
    "# Electron charge mass ratio\n",
    "# By Max Fine for PHYC11 in 2022"
   ]
  },
  {
   "cell_type": "code",
   "execution_count": 1,
   "id": "6768d38b",
   "metadata": {},
   "outputs": [],
   "source": [
    "# imports\n",
    "import numpy as np\n",
    "import matplotlib.pyplot as plt\n",
    "from scipy.optimize import curve_fit"
   ]
  },
  {
   "cell_type": "code",
   "execution_count": 60,
   "id": "cca82bcc",
   "metadata": {},
   "outputs": [],
   "source": [
    "# data \n",
    "\n",
    "# data is organizaed as matrixes of V, I, and R \n",
    "test_set = np.array([[[1, 2,3], [4,5,6]], [[7,8,9], [10,11,12]]])\n",
    "\n",
    "data_1 = np.array([[[425, 374,476], [3.0,3.0,3.0]], [[5.5,5,6], [10,11,12]]])\n",
    "\n",
    "data_2 = np.array([[[346, 216,242, 270,300,334,369,406,447,491], # v\n",
    "                    [1.64, 1.64,1.64, 1.64,1.64,1.64,1.64,1.64,1.64,1.64]], #I\n",
    "                   [[5,7,7.5,8,8.5,9,9.5,10,10.5,11,], [5,7,7.5,8,8.5,9,9.5,10,10.5,11,]]]) #r\n",
    "\n",
    "data_3 = np.array([[[348, 348,348, 348,348,348,348,348,348,348,348,348,348], # v\n",
    "                    [3.00, 2.75,2.50, 2.31,2.15,2.00,1.88,1.77,1.68,1.59,1.52,1.46,1.41]], #I\n",
    "                   [[5,5.5,6,6.5,7,7.5,8,8.5,9,9.5,10,10.5,11], [5,5.5,6,6.5,7,7.5,8,8.5,9,9.5,10,10.5,11]]]) #r\n",
    "\n",
    "data_4 = np.array([[[498, 456,415, 377,341,308,2.75,2.48,2.22], # v\n",
    "                    [1.65, 1.65,1.65, 1.65,1.65,1.65,1.65,1.65,1.65]], #I\n",
    "                   [[5,5.5,6,6.5,7,7.5,8,8.5,9], [5,5.5,6,6.5,7,7.5,8,8.5,9]]]) #r\n",
    "\n",
    "data_5 = np.array([[[296,296,296,296,296,296,296,296,296,296,296,296,296], # v\n",
    "                    [2.77,2.51,2.29,2.11,1.96,1.83,1.72,1.63,1.54,1.46,1.41,1.36,1.31]], #I\n",
    "                   [[5,5.5,6,6.5,7,7.5,8,8.5,9,9.5,10,10.5,11], [5,5.5,6,6.5,7,7.5,8,8.5,9,9.5,10,10.5,11]]]) #r\n",
    "# constant r tests\n",
    "data_6 = np.array([[[309,2.79,3.06,342,380,422,459,284,256,239,208,], # v\n",
    "                    [1.66,1.58,1.66,1.76,1.85,1.95,2.05,1.59,1.51,1.45,1.38]], #I\n",
    "                   [[8.0,8.0,8.0,8.0,8.0,8.0,8.0,8.0,8.0,8.0,8.0], [8.0,8.0,8.0,8.0,8.0,8.0,8.0,8.0,8.0,8.0,8.0]]]) #r\n",
    "\n",
    "data_7 = np.array([[[269,293,346,401,441,500], # v\n",
    "                    [2.00,2.10,2.32,2.48,2.63,2.82]], #I\n",
    "                   [[6.5,6.5,6.5,6.5,6.5,6.5], [269,293,346,401,441,500]]]) #r\n",
    "\n",
    "data_8 = np.array([[[324,363,401,443,484,300], # v\n",
    "                    [1.92,2.05,2.16,2.28,2.39,1.85]], #I\n",
    "                   [[7.5,7.5,7.5,7.5,7.5,7.5], [1.92,2.05,2.16,2.28,2.39,1.85]]]) #r\n",
    "# really only 7 data sets of varing length\n"
   ]
  },
  {
   "cell_type": "code",
   "execution_count": 3,
   "id": "a290cb8b",
   "metadata": {},
   "outputs": [],
   "source": [
    "values =data_7[0:,:][0,:][1]"
   ]
  },
  {
   "cell_type": "code",
   "execution_count": 4,
   "id": "486d8732",
   "metadata": {},
   "outputs": [
    {
     "data": {
      "text/plain": [
       "array([1.92, 2.05, 2.16, 2.28, 2.39, 1.85])"
      ]
     },
     "execution_count": 4,
     "metadata": {},
     "output_type": "execute_result"
    }
   ],
   "source": [
    "values"
   ]
  },
  {
   "cell_type": "code",
   "execution_count": 5,
   "id": "2c8d7859",
   "metadata": {},
   "outputs": [
    {
     "data": {
      "text/plain": [
       "array([7, 8, 9])"
      ]
     },
     "execution_count": 5,
     "metadata": {},
     "output_type": "execute_result"
    }
   ],
   "source": [
    "test_set[0:,:][1,:][0]\n",
    "# organization will be v, i and r matching [0][0][0], [0][0[1] and [0] [1] [0]"
   ]
  },
  {
   "cell_type": "code",
   "execution_count": 6,
   "id": "21f665dc",
   "metadata": {},
   "outputs": [
    {
     "name": "stdout",
     "output_type": "stream",
     "text": [
      "(array([9.96488096, 3.99530686, 6.01390467]), array([[ 1.64067821e-03,  8.77879720e-05, -2.72505657e-04],\n",
      "       [ 8.77879720e-05,  4.79773507e-06, -1.45078109e-05],\n",
      "       [-2.72505657e-04, -1.45078109e-05,  4.57019629e-05]]))\n"
     ]
    }
   ],
   "source": [
    "# model function example\n",
    "def func(X, a, b, c):\n",
    "    x,y = X\n",
    "    return np.log(a) + b*np.log(x) + c*np.log(y)\n",
    "\n",
    "# some artificially noisy data to fit\n",
    "x = np.linspace(0.1,1.1,101)\n",
    "y = np.linspace(1.,2., 101)\n",
    "a, b, c = 10., 4., 6.\n",
    "z = func((x,y), a, b, c) * 1 + np.random.random(101) / 100\n",
    "\n",
    "# initial guesses for a,b,c:\n",
    "p0 = 8., 2., 7.\n",
    "print(curve_fit(func, (x,y), z, p0))\n",
    "\n",
    "popt, pcov = curve_fit(func, (x,y), z, p0)"
   ]
  },
  {
   "cell_type": "code",
   "execution_count": 52,
   "id": "1ce9f19c",
   "metadata": {},
   "outputs": [],
   "source": [
    "def model_func(data, m_e):\n",
    "    'returns r'\n",
    "    u = 1.257e-6  # henries per meters\n",
    "    n = 132 # no units\n",
    "    a = 147.5 / 1000 #m\n",
    "    I = data[0:,:][0,:][1]\n",
    "   # print(I)\n",
    "    B = ((u  *n*2 * I) / a )* (4/5)**3/2\n",
    "    \n",
    "    v = data[0:,:][0,:][0]\n",
    "    \n",
    "    r = np.sqrt(2*v*m_e*(B**-2)) / 100 #outputs in cm\n",
    "    return r\n",
    "\n",
    "e_m = 1.75e11\n",
    "\n",
    "def model_func2(data, m_e):\n",
    "    ' returns e_m'\n",
    "    u = 1.257e-6  # henries per meters\n",
    "    n = 132 # no units\n",
    "    a = 147.5 / 1000 #m\n",
    "    I = data[0:,:][0,:][1]\n",
    "    r = data[0:,:][1,:][0] / 100 #meter\n",
    "   # print(I)\n",
    "    B = ((u  *n*2 * I) / a )* (4/5)**3/2\n",
    "    \n",
    "    v = data[0:,:][0,:][0]\n",
    "    \n",
    "    r = np.sqrt(2*v*m_e*(1/(B**2))) /100 #cm? \n",
    "    return r\n",
    "\n",
    "e_m = 1.75e11"
   ]
  },
  {
   "cell_type": "code",
   "execution_count": 71,
   "id": "3b033c41",
   "metadata": {},
   "outputs": [
    {
     "name": "stdout",
     "output_type": "stream",
     "text": [
      "False\n",
      "[0.00098245]\n",
      "[[[ True  True  True  True  True  True  True  True  True  True  True\n",
      "    True  True]\n",
      "  [ True  True  True  True  True  True  True  True  True  True  True\n",
      "    True  True]]\n",
      "\n",
      " [[ True  True  True  True  True  True  True  True  True  True  True\n",
      "    True  True]\n",
      "  [ True  True  True  True  True  True  True  True  True  True  True\n",
      "    True  True]]]\n",
      "[0.00109642]\n",
      "False\n",
      "[0.00047405]\n",
      "[[[False False False False False False False False False False False\n",
      "   False False]\n",
      "  [False False False False False False False False False False False\n",
      "   False False]]\n",
      "\n",
      " [[ True  True  True  True  True  True  True  True  True  True  True\n",
      "    True  True]\n",
      "  [ True  True  True  True  True  True  True  True  True  True  True\n",
      "    True  True]]]\n",
      "[0.00109359]\n",
      "False\n",
      "[0.00099258]\n",
      "False\n",
      "[0.00107849]\n"
     ]
    },
    {
     "name": "stderr",
     "output_type": "stream",
     "text": [
      "/tmp/ipykernel_10458/81200492.py:14: DeprecationWarning: elementwise comparison failed; this will raise an error in the future.\n",
      "  print(my_data == data_3)\n",
      "/tmp/ipykernel_10458/2691713508.py:12: RuntimeWarning: invalid value encountered in sqrt\n",
      "  r = np.sqrt(2*v*m_e*(B**-2)) / 100 #outputs in cm\n"
     ]
    }
   ],
   "source": [
    "# fitting data to model \n",
    "\n",
    "data_sets = [2,3,4,5,6,7]\n",
    "my_data_sets = [data_2,data_3,data_4,data_5,data_6,data_7,data_8]\n",
    "popt_vals = np.zeros(len(data_sets))\n",
    "\n",
    "data_len = np.zeros(len(data_sets))\n",
    "for i in range(len(data_sets)):\n",
    "    #print(i+2)\n",
    "   # j = i+2\n",
    "    \n",
    "    my_data = my_data_sets[i]\n",
    "    \n",
    "    print(my_data == data_3)\n",
    "    r_values = my_data[0:,:][1,:][0] #cm\n",
    "    popt, pcov = curve_fit(model_func, my_data, r_values,)\n",
    "    popt_vals[i] = popt[0]\n",
    "    print(popt)\n",
    "    \n",
    "    len_data = len(r_values)\n",
    "    data_len[i]= len_data\n",
    "\n",
    "total = np.sum(data_len)\n",
    "#for i in range(len(data_sets))\n",
    "#my_m_e"
   ]
  },
  {
   "cell_type": "code",
   "execution_count": 62,
   "id": "3303049b",
   "metadata": {},
   "outputs": [
    {
     "data": {
      "text/plain": [
       "array([0.00107849])"
      ]
     },
     "execution_count": 62,
     "metadata": {},
     "output_type": "execute_result"
    }
   ],
   "source": [
    "# getting my value of m_e\n",
    "\n",
    "popt"
   ]
  },
  {
   "cell_type": "code",
   "execution_count": 66,
   "id": "cd364908",
   "metadata": {},
   "outputs": [
    {
     "data": {
      "text/plain": [
       "array([ 98245.48645409, 109642.0688941 ,  47405.02519755, 109358.87892716,\n",
       "        99258.13084805, 107849.39301635])"
      ]
     },
     "execution_count": 66,
     "metadata": {},
     "output_type": "execute_result"
    }
   ],
   "source": [
    "popt_vals * 1e8"
   ]
  },
  {
   "cell_type": "code",
   "execution_count": 48,
   "id": "19ae2761",
   "metadata": {},
   "outputs": [
    {
     "data": {
      "text/plain": [
       "array([1.23420874e+09, 5.48707994e+08, 5.81219272e+08, 9.45855047e+08,\n",
       "       2.64827199e+08, 4.62213864e+08])"
      ]
     },
     "execution_count": 48,
     "metadata": {},
     "output_type": "execute_result"
    }
   ],
   "source": [
    "popt_vals"
   ]
  },
  {
   "cell_type": "code",
   "execution_count": 16,
   "id": "63f29d5d",
   "metadata": {},
   "outputs": [
    {
     "data": {
      "text/plain": [
       "1.75"
      ]
     },
     "execution_count": 16,
     "metadata": {},
     "output_type": "execute_result"
    }
   ],
   "source": [
    "e_m *1e-11"
   ]
  },
  {
   "cell_type": "code",
   "execution_count": null,
   "id": "c8b7fe7c",
   "metadata": {},
   "outputs": [],
   "source": [
    "e_m *1e-11"
   ]
  },
  {
   "cell_type": "code",
   "execution_count": null,
   "id": "f7d06d50",
   "metadata": {},
   "outputs": [],
   "source": [
    "1 / (1.75e11)"
   ]
  },
  {
   "cell_type": "code",
   "execution_count": 22,
   "id": "22b7893f",
   "metadata": {},
   "outputs": [
    {
     "data": {
      "text/plain": [
       "5.714285714285714e-12"
      ]
     },
     "execution_count": 22,
     "metadata": {},
     "output_type": "execute_result"
    }
   ],
   "source": [
    "m_e"
   ]
  },
  {
   "cell_type": "code",
   "execution_count": null,
   "id": "4b6b8bcc",
   "metadata": {},
   "outputs": [],
   "source": []
  }
 ],
 "metadata": {
  "kernelspec": {
   "display_name": "Python 3 (ipykernel)",
   "language": "python",
   "name": "python3"
  },
  "language_info": {
   "codemirror_mode": {
    "name": "ipython",
    "version": 3
   },
   "file_extension": ".py",
   "mimetype": "text/x-python",
   "name": "python",
   "nbconvert_exporter": "python",
   "pygments_lexer": "ipython3",
   "version": "3.9.7"
  }
 },
 "nbformat": 4,
 "nbformat_minor": 5
}
